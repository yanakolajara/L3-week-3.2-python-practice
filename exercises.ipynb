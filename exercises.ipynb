{
 "cells": [
  {
   "cell_type": "markdown",
   "metadata": {},
   "source": [
    "# Python Exercises Practice 2\n",
    "\n",
    "### Exercise 1: String Concatenation\n",
    "\n",
    " Create a function called concatenate_strings that takes two strings as parameters and returns the concatenation of the two strings. Place a space between strings. Use f-string to format the output.\n",
    "\n"
   ]
  },
  {
   "cell_type": "code",
   "execution_count": 2,
   "metadata": {},
   "outputs": [
    {
     "data": {
      "text/plain": [
       "'Oreo Cookies'"
      ]
     },
     "execution_count": 2,
     "metadata": {},
     "output_type": "execute_result"
    }
   ],
   "source": [
    "# Your code here\n",
    "def concatenate_strings(w1, w2):\n",
    "    return f\"{w1} {w2}\"\n",
    "# Uncomment the invoked functions to Test\n",
    "\n",
    "concatenate_strings(\"Hello\", \"World\")\n",
    "# Should return \"Hello World\"\n",
    "\n",
    "concatenate_strings(\"Oreo\", \"Cookies\")\n",
    "# Should return \"Oreo Cookies\""
   ]
  },
  {
   "cell_type": "markdown",
   "metadata": {},
   "source": [
    "### Exercise 2: Truthy or Falsey Boolean Logic\n",
    "\n",
    "Create a function called flip_boolean that takes an input and returns false if the input is true or truthy and true if the input is false or falsy.\n",
    "\n"
   ]
  },
  {
   "cell_type": "code",
   "execution_count": 7,
   "metadata": {},
   "outputs": [
    {
     "data": {
      "text/plain": [
       "True"
      ]
     },
     "execution_count": 7,
     "metadata": {},
     "output_type": "execute_result"
    }
   ],
   "source": [
    "# Your code here\n",
    "def flip_boolean(input):\n",
    "    return not input \n",
    "# Uncomment the invoked functions to Test\n",
    "flip_boolean(True)\n",
    "# Should return False\n",
    "\n",
    "flip_boolean(False)\n",
    "# Should return True\n",
    "\n",
    "flip_boolean(\"Hello\")\n",
    "# Should return False\n",
    "\n",
    "flip_boolean(0)\n",
    "# Should return True"
   ]
  },
  {
   "cell_type": "markdown",
   "metadata": {},
   "source": [
    "### Exercise 3: Return AB or CD   \n",
    "\n",
    "Create a function return_ab_or_cd that takes 4 values and returns true if the first two values are truthy or the last two values are truthy.\n"
   ]
  },
  {
   "cell_type": "code",
   "execution_count": 18,
   "metadata": {},
   "outputs": [
    {
     "data": {
      "text/plain": [
       "False"
      ]
     },
     "execution_count": 18,
     "metadata": {},
     "output_type": "execute_result"
    }
   ],
   "source": [
    "# Your code here\n",
    "def return_ab_or_cd(v1,v2,v3,v4):\n",
    "    return bool((v1 and v2) or (v3 and v4))\n",
    "# Uncomment the invoked functions to Test\n",
    "return_ab_or_cd(True, True, False, False)\n",
    "# Should return True\n",
    "\n",
    "return_ab_or_cd('False', '', True, 1)\n",
    "# Should return True\n",
    "\n",
    "return_ab_or_cd(3, 'dog', 'cat', False)\n",
    "# Should return True\n"
   ]
  },
  {
   "cell_type": "markdown",
   "metadata": {},
   "source": [
    "### Exercise 4: String Slicing\n",
    "\n",
    "Create a function return_every_other_character that takes a string and returns every other character of the string starting at index 0.\n",
    "\n",
    "\n",
    "\n",
    "\n"
   ]
  },
  {
   "cell_type": "code",
   "execution_count": 21,
   "metadata": {},
   "outputs": [
    {
     "data": {
      "text/plain": [
       "'Cois'"
      ]
     },
     "execution_count": 21,
     "metadata": {},
     "output_type": "execute_result"
    }
   ],
   "source": [
    "# Your code here\n",
    "def return_every_other_character(str):\n",
    "    new_str = ''\n",
    "    even = True\n",
    "    for char in str:\n",
    "        if(even):\n",
    "            new_str += char\n",
    "        even = not even\n",
    "    return new_str\n",
    "# Uncomment the invoked functions to Test\n",
    "return_every_other_character(\"Hello\")\n",
    "# Should return \"Hlo\"\n",
    "\n",
    "return_every_other_character(\"Oreo\")\n",
    "# Should return \"Oe\"\n",
    "\n",
    "return_every_other_character(\"Cookies\")\n",
    "# Should return \"Cois\""
   ]
  },
  {
   "cell_type": "markdown",
   "metadata": {},
   "source": [
    "### Exercise 5: Control Flow\n",
    "\n",
    "Create a function called language_detector that takes a string representing a language and returns the string for \"Hello, World\", if the language is English, \"Hola Mundo\" if the language is Spanish, or \"Unknown\" if the language is not English or Spanish\n",
    "\n"
   ]
  },
  {
   "cell_type": "code",
   "execution_count": 24,
   "metadata": {},
   "outputs": [
    {
     "data": {
      "text/plain": [
       "'Unknown'"
      ]
     },
     "execution_count": 24,
     "metadata": {},
     "output_type": "execute_result"
    }
   ],
   "source": [
    "# Your code here\n",
    "def language_detector(str):\n",
    "    if str == \"English\":\n",
    "        return \"Hello, World\"\n",
    "    elif str == \"Spanish\":\n",
    "        return \"Hola Mundo\"\n",
    "    else:\n",
    "        return \"Unknown\"\n",
    "# Uncomment the invoked functions to Test\n",
    "language_detector(\"English\")\n",
    "# Should return \"Hello, World\"\n",
    "\n",
    "language_detector(\"Spanish\")\n",
    "# Should return \"Hola Mundo\"\n",
    "\n",
    "language_detector(\"French\")\n",
    "# Should return \"Unknown\""
   ]
  },
  {
   "cell_type": "markdown",
   "metadata": {},
   "source": [
    "### Exercise 6: String Manipulation\n",
    "\n",
    "Write a function `manipulate_string` that takes a string and does the following:\n",
    "1. Converts the string to uppercase\n",
    "2. Reverses the string\n",
    "3. Returns a slice of the reversed string (from 2nd to 5th character)\n",
    "\n"
   ]
  },
  {
   "cell_type": "code",
   "execution_count": 58,
   "metadata": {},
   "outputs": [
    {
     "data": {
      "text/plain": [
       "'EIKO'"
      ]
     },
     "execution_count": 58,
     "metadata": {},
     "output_type": "execute_result"
    }
   ],
   "source": [
    "# Your code here\n",
    "def manipulate_string(str):\n",
    "\n",
    "    return str[-2:-6:-1].upper()\n",
    "# Uncomment the invoked functions to Test\n",
    "manipulate_string(\"Hello\")\n",
    "# Should return \"LLEH\"\n",
    "\n",
    "manipulate_string(\"Oreo\")\n",
    "# Should return \"ERO\"\n",
    "\n",
    "manipulate_string(\"Cookies\")\n",
    "# Should return \"EIKO\""
   ]
  },
  {
   "cell_type": "markdown",
   "metadata": {},
   "source": [
    "### Exercise 7: Advanced F-string Formatting\n",
    "\n",
    "Write a function `format_product_info` that takes a product name (string), price (float), and quantity (integer). Use f-strings to return a formatted string with the product details, aligning the text and formatting the price to 2 decimal places. (You may have to look up how to use the python version of the JS .toFixed() method)\n",
    "\n"
   ]
  },
  {
   "cell_type": "code",
   "execution_count": 61,
   "metadata": {},
   "outputs": [
    {
     "data": {
      "text/plain": [
       "'Product: Tablet, Price: $300.25, Quantity: 2'"
      ]
     },
     "execution_count": 61,
     "metadata": {},
     "output_type": "execute_result"
    }
   ],
   "source": [
    "# Your code here\n",
    "def format_product_info(name:str, price:float, quantity:int):\n",
    "    return f\"Product: {name}, Price: ${price:.2f}, Quantity: {quantity}\"\n",
    "# Uncomment the invoked functions to Test\n",
    "format_product_info(\"Laptop\", 1200.50, 5)\n",
    "# Should return \"Product: Laptop, Price: $1200.50, Quantity: 5\"\n",
    "\n",
    "format_product_info(\"Phone\", 800.75, 3)\n",
    "# Should return \"Product: Phone, Price: $800.75, Quantity: 3\"\n",
    "\n",
    "format_product_info(\"Tablet\", 300.25, 2)\n",
    "# Should return \"Product: Tablet, Price: $300.25, Quantity: 2\""
   ]
  },
  {
   "cell_type": "markdown",
   "metadata": {},
   "source": [
    "### Exercise 8: Ticket Price Calculator\n",
    "\n",
    "Create a function called calculate_ticket_price that takes three parameters:\n",
    "1. day (string): The day of the week (e.g., \"Monday\", \"Saturday\")\n",
    "2. age (integer): The age of the customer\n",
    "3. is_student (boolean): Whether the customer is a student or not\n",
    "\n",
    "The function should calculate the ticket price based on the following rules:\n",
    "- Base price is $10\n",
    "- If it's a weekend (day is \"Saturday\" or \"Sunday\"), add $5\n",
    "- If age is under 18 or over 65, apply a 20% discount\n",
    "- If is_student is True and it's not a weekend, apply a 10% discount\n",
    "\n",
    "Return the final ticket price as a float rounded to 2 decimal places.\n",
    "\n",
    "\n",
    "\n"
   ]
  },
  {
   "cell_type": "code",
   "execution_count": 70,
   "metadata": {},
   "outputs": [
    {
     "data": {
      "text/plain": [
       "'12.00'"
      ]
     },
     "execution_count": 70,
     "metadata": {},
     "output_type": "execute_result"
    }
   ],
   "source": [
    "# Your code here\n",
    "def calculate_ticket_price(day: str, age:int, is_student:bool):\n",
    "    total_price = 10.00\n",
    "    is_weekend = day == \"Saturday\" or day == \"Sunday\"\n",
    "    if is_weekend:\n",
    "        total_price += 5\n",
    "    if age < 18 or age > 65:\n",
    "        total_price *= .8\n",
    "    if is_student and not is_weekend:\n",
    "        total_price *= .9\n",
    "    return f\"{total_price:.2f}\"\n",
    "# Uncomment the invoked functions to Test\n",
    "calculate_ticket_price(\"Monday\", 25, True)\n",
    "# Should return 9.00\n",
    "\n",
    "calculate_ticket_price(\"Saturday\", 50, False)\n",
    "# Should return 15.00\n",
    "\n",
    "calculate_ticket_price(\"Sunday\", 17, True)\n",
    "# Should return 12.00\n"
   ]
  },
  {
   "cell_type": "markdown",
   "metadata": {},
   "source": [
    "### Exercise 9: Function comparing Python to JavaScript syntax\n",
    "\n",
    "Rewrite the following JavaScript function in Python:\n",
    "\n",
    "```javascript\n",
    "function jsComparison(x, y) {\n",
    "    if (x === y) {\n",
    "        return \"Equal\";\n",
    "    } else if (x > y) {\n",
    "        return \"Greater\";\n",
    "    } else {\n",
    "        return \"Less\";\n",
    "    }\n",
    "}\n",
    "\n",
    "\n"
   ]
  },
  {
   "cell_type": "code",
   "execution_count": 73,
   "metadata": {},
   "outputs": [
    {
     "data": {
      "text/plain": [
       "'Less'"
      ]
     },
     "execution_count": 73,
     "metadata": {},
     "output_type": "execute_result"
    }
   ],
   "source": [
    "# Your code here\n",
    "def js_comparison(x:int,y:int):\n",
    "    if x == y:\n",
    "        return \"Equal\"\n",
    "    elif x > y:\n",
    "        return \"Greater\"\n",
    "    else:\n",
    "        return \"Less\"\n",
    "\n",
    "# Uncomment the invoked functions to Test\n",
    "js_comparison(1, 1)\n",
    "# Should return \"Equal\"\n",
    "\n",
    "js_comparison(2, 1)\n",
    "# Should return \"Greater\"\n",
    "\n",
    "js_comparison(1, 2)\n",
    "# Should return \"Less\""
   ]
  },
  {
   "cell_type": "markdown",
   "metadata": {},
   "source": [
    "### Exercise 10: Simulated Switch-Case\n",
    "\n",
    "Python doesn't have a switch-case statement. Implement a function `simulated_switch` that takes a day number (1-7) and returns the day name. Use if-elif-else statements to simulate a switch-case behavior.\n",
    "OR find the switch-case statement for python and implement it.\n",
    "\n",
    "\n"
   ]
  },
  {
   "cell_type": "code",
   "execution_count": 77,
   "metadata": {},
   "outputs": [
    {
     "data": {
      "text/plain": [
       "'Sunday'"
      ]
     },
     "execution_count": 77,
     "metadata": {},
     "output_type": "execute_result"
    }
   ],
   "source": [
    "# Your code here\n",
    "def simulated_switch(num:int):\n",
    "    switcher = {\n",
    "        1: \"Monday\",\n",
    "        2: \"Tuesday\",\n",
    "        3: \"Wednesday\",\n",
    "        4: \"Thurdsday\",\n",
    "        5: \"Friday\",\n",
    "        6: \"Saturday\",\n",
    "        7: \"Sunday\"\n",
    "    }\n",
    "     \n",
    "    return switcher.get(num, \"Unknown\")\n",
    "# Uncomment the invoked functions to Test\n",
    "simulated_switch(1)\n",
    "# Should return \"Monday\"\n",
    "\n",
    "simulated_switch(5)\n",
    "# Should return \"Friday\"\n",
    "\n",
    "simulated_switch(7)\n",
    "# Should return \"Sunday\""
   ]
  }
 ],
 "metadata": {
  "kernelspec": {
   "display_name": ".venv",
   "language": "python",
   "name": "python3"
  },
  "language_info": {
   "codemirror_mode": {
    "name": "ipython",
    "version": 3
   },
   "file_extension": ".py",
   "mimetype": "text/x-python",
   "name": "python",
   "nbconvert_exporter": "python",
   "pygments_lexer": "ipython3",
   "version": "3.12.4"
  }
 },
 "nbformat": 4,
 "nbformat_minor": 2
}
